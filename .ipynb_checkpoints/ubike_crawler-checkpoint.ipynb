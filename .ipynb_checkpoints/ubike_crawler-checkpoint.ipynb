{
 "cells": [
  {
   "cell_type": "code",
   "execution_count": 1,
   "id": "a1ea7acf-a8c8-4b58-ac1c-87c65aefa26c",
   "metadata": {},
   "outputs": [],
   "source": [
    "import requests,json\n",
    "import pandas as pd"
   ]
  },
  {
   "cell_type": "code",
   "execution_count": 2,
   "id": "468566c2-f542-419e-887c-9392b26eb408",
   "metadata": {},
   "outputs": [
    {
     "name": "stdin",
     "output_type": "stream",
     "text": [
      "請輸入您想要查詢ubike資訊的區域:  大安\n"
     ]
    }
   ],
   "source": [
    "area=input('請輸入您想要查詢ubike資訊的區域: ')\n"
   ]
  },
  {
   "cell_type": "code",
   "execution_count": 3,
   "id": "c3075990-8e62-4315-b293-c954dda09e66",
   "metadata": {},
   "outputs": [],
   "source": [
    "#從url取得資料\n",
    "url='https://tcgbusfs.blob.core.windows.net/dotapp/youbike/v2/youbike_immediate.json'\n",
    "response=requests.get(url)"
   ]
  },
  {
   "cell_type": "code",
   "execution_count": 4,
   "id": "32761d6e-1e41-446c-abbd-f3f262280cf2",
   "metadata": {},
   "outputs": [],
   "source": [
    "#使用json()來把原生資料轉換成JSON型態的資料結構,該方法以 Python 字典格式列印 JSON 數據。\n",
    "json_data=response.json()"
   ]
  },
  {
   "cell_type": "code",
   "execution_count": 5,
   "id": "14be1a44-1cc1-4bc4-9ccd-2aa4fecde160",
   "metadata": {},
   "outputs": [],
   "source": [
    "#先定義好最後資料的欄位名稱\n",
    "col_names=['站點名稱','區域','可租借數','可歸還數']"
   ]
  },
  {
   "cell_type": "code",
   "execution_count": 6,
   "id": "3b9802cd-39b3-474c-ad1d-5306c519ecc6",
   "metadata": {},
   "outputs": [],
   "source": [
    "#先準備一個空的List等添加json的資料進去\n",
    "rows=[]"
   ]
  },
  {
   "cell_type": "code",
   "execution_count": 7,
   "id": "9e69dee0-cb01-4d44-b9bf-8cf87f725aba",
   "metadata": {},
   "outputs": [],
   "source": [
    "#注意x這時是表示第1個字典,第2個字典而不是0,1,2\n",
    "for x in json_data:\n",
    "    if(area in x['sarea']):\n",
    "        rows.append(x)"
   ]
  },
  {
   "cell_type": "code",
   "execution_count": 8,
   "id": "c66515fe-7287-461e-a557-4bbf59c2a3f2",
   "metadata": {},
   "outputs": [],
   "source": [
    "df=pd.DataFrame(rows)\n"
   ]
  },
  {
   "cell_type": "code",
   "execution_count": 9,
   "id": "418a026b-387d-402a-ab92-f1a1d4aa3a75",
   "metadata": {},
   "outputs": [],
   "source": [
    "#這邊是用來擷取需要的欄位\n",
    "df=df[['sna','sarea','available_rent_bikes','available_return_bikes']]"
   ]
  },
  {
   "cell_type": "code",
   "execution_count": 10,
   "id": "9e8f8d53-1998-4e8c-ad3a-e4af1e2390a7",
   "metadata": {},
   "outputs": [],
   "source": [
    "#修改欄位標題(改成之前定義好的欄位名稱)\n",
    "df.columns=col_names\n"
   ]
  },
  {
   "cell_type": "code",
   "execution_count": 11,
   "id": "7ce3cb70-3322-4a4b-91f0-a5226e4544f9",
   "metadata": {},
   "outputs": [],
   "source": [
    "#這個語法用來將DataFrame 中的值做slicing並置換\n",
    "df['站點名稱']=df['站點名稱'].str.slice_replace(stop=11,repl='')"
   ]
  },
  {
   "cell_type": "code",
   "execution_count": 12,
   "id": "99fdb6ac-534c-4ed6-92e7-43754b9b91f3",
   "metadata": {},
   "outputs": [
    {
     "name": "stdout",
     "output_type": "stream",
     "text": [
      "              站點名稱   區域  可租借數  可歸還數\n",
      "0          捷運科技大樓站  大安區    20     8\n",
      "1      復興南路二段273號前  大安區    19     2\n",
      "2        國北教大實小東側門  大安區     1    15\n",
      "3           和平公園東側  大安區    10     1\n",
      "4        辛亥復興路口西北側  大安區     5    11\n",
      "..             ...  ...   ...   ...\n",
      "184         浦城街26巷  大安區     4    13\n",
      "185         青峰活動中心  大安區     3    22\n",
      "186    忠孝東路三段216巷口  大安區     3    25\n",
      "187  捷運忠孝復興站(4號出口)  大安區    10    15\n",
      "188         和平溫州街口  大安區     1    22\n",
      "\n",
      "[189 rows x 4 columns]\n"
     ]
    }
   ],
   "source": [
    "print(df)\n"
   ]
  },
  {
   "cell_type": "code",
   "execution_count": null,
   "id": "c3bddd26-f163-480e-af61-003dc040c35a",
   "metadata": {},
   "outputs": [],
   "source": []
  }
 ],
 "metadata": {
  "kernelspec": {
   "display_name": "Python 3 (ipykernel)",
   "language": "python",
   "name": "python3"
  },
  "language_info": {
   "codemirror_mode": {
    "name": "ipython",
    "version": 3
   },
   "file_extension": ".py",
   "mimetype": "text/x-python",
   "name": "python",
   "nbconvert_exporter": "python",
   "pygments_lexer": "ipython3",
   "version": "3.12.4"
  }
 },
 "nbformat": 4,
 "nbformat_minor": 5
}
